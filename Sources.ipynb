{
 "cells": [
  {
   "cell_type": "markdown",
   "metadata": {},
   "source": [
    "#  Sources\n",
    "\n",
    "A tenative list of references for Bayesian inference.\n",
    "\n",
    "## Blogs\n",
    "\n",
    "* [Jake VDP](https://jakevdp.github.io/blog/2015/08/07/frequentism-and-bayesianism-5-model-selection/): a must-read series on the frequentism vs Bayesianism.\n",
    "* [Applied AI](http://blog.applied.ai/tag/bayesian-statistics/): multiple series on Bayesian estimation and inference, as well application in quant finance.\n",
    "\n",
    "## Books\n",
    "\n",
    "* [Bayesian Data Analysis](https://www.amazon.com/Bayesian-Analysis-Chapman-Statistical-Science/dp/1439840954), Gelman. \n",
    "* [Pattern Recognition and Machine Learning](https://www.amazon.com/Pattern-Recognition-Learning-Information-Statistics/dp/0387310738/ref=sr_1_1?s=books&ie=UTF8&qid=1468920366&sr=1-1&keywords=bishop+machine), Bishop.\n",
    "* [Machine Learning: A Probabilistic Perspective](https://www.amazon.com/Machine-Learning-Probabilistic-Perspective-Computation/dp/0262018020/ref=pd_bxgy_14_2?ie=UTF8&psc=1&refRID=JK1QYKV7ZQ5CJS3Y85SE), Murphy."
   ]
  },
  {
   "cell_type": "code",
   "execution_count": null,
   "metadata": {
    "collapsed": true
   },
   "outputs": [],
   "source": []
  }
 ],
 "metadata": {
  "kernelspec": {
   "display_name": "Python 2",
   "language": "python",
   "name": "python2"
  },
  "language_info": {
   "codemirror_mode": {
    "name": "ipython",
    "version": 2
   },
   "file_extension": ".py",
   "mimetype": "text/x-python",
   "name": "python",
   "nbconvert_exporter": "python",
   "pygments_lexer": "ipython2",
   "version": "2.7.11"
  }
 },
 "nbformat": 4,
 "nbformat_minor": 0
}
